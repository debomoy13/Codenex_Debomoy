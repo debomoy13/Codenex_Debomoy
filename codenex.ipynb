{
 "cells": [
  {
   "cell_type": "code",
   "execution_count": null,
   "id": "997f868d",
   "metadata": {},
   "outputs": [],
   "source": [
    "def marks_details():\n",
    "    a = int(input(\"Enter physics marks: \"))\n",
    "    b = int(input(\"Enter chemistry marks: \"))\n",
    "    c = int(input(\"Enter maths marks: \"))\n",
    "    d = int(input(\"Enter computer marks: \"))\n",
    "    e = int(input(\"Enter english marks: \"))\n",
    "    total = a + b + c + d + e\n",
    "    avg_marks = total / 5\n",
    "    print(\"Total marks is:\", total)\n",
    "    print(\"Average marks is:\", avg_marks)\n",
    "    return avg_marks\n",
    "\n",
    "def grade_of_student(avg_marks):\n",
    "    if avg_marks >= 90:\n",
    "        print(\"Grade A\")\n",
    "    elif avg_marks >= 75:\n",
    "        print(\"Grade B\")\n",
    "    elif avg_marks >= 50:\n",
    "        print(\"Grade C\")\n",
    "    else:\n",
    "        print(\"Grade F\")\n",
    "\n",
    "avg_marks = marks_details()\n",
    "grade_of_student(avg_marks)"
   ]
  }
 ],
 "metadata": {
  "kernelspec": {
   "display_name": "Python 3",
   "language": "python",
   "name": "python3"
  },
  "language_info": {
   "codemirror_mode": {
    "name": "ipython",
    "version": 3
   },
   "file_extension": ".py",
   "mimetype": "text/x-python",
   "name": "python",
   "nbconvert_exporter": "python",
   "pygments_lexer": "ipython3",
   "version": "3.13.6"
  }
 },
 "nbformat": 4,
 "nbformat_minor": 5
}
